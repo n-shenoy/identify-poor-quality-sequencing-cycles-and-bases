{
 "cells": [
  {
   "cell_type": "markdown",
   "id": "e26d48f0-53af-4b2b-9142-d16c75359dba",
   "metadata": {},
   "source": [
    " <h1 align=\"center\"> Identifying Poor Quality Sequencing Cycles and Corresponding Bases from DNA Sequencing Reads </h1>\n",
    " <h4 align=\"center\"> Navami Shenoy </h4>\n",
    " <h4 align=\"center\"> Dec 27, 2021 </h4>"
   ]
  },
  {
   "cell_type": "markdown",
   "id": "5ad65013-b27b-4e38-8c79-687033ff970a",
   "metadata": {},
   "source": [
    "\n"
   ]
  },
  {
   "cell_type": "markdown",
   "id": "1d7cd926-a2bd-4b8f-9d47-6d8cbff9ec17",
   "metadata": {},
   "source": [
    "### Objective\n",
    "This Python project focuses on identifying poor quality sequencing cycles and deducing the corresponding unidentified bases (i.e. bases reported as 'N' during the sequencer reads). The following raw sequence data has been sourced from Ajay _et al_ (2011) and contains the first 1000 reads from the whole-genome sequence derived from a human male individual. "
   ]
  },
  {
   "cell_type": "code",
   "execution_count": 1,
   "id": "6670a3ec-f15a-4523-ad56-5206d7aa726d",
   "metadata": {},
   "outputs": [],
   "source": [
    "# contains functions used in this notebook\n",
    "from seq_processing import *"
   ]
  },
  {
   "cell_type": "code",
   "execution_count": 18,
   "id": "43135b7c-c4bc-428b-bf19-1453265af3a6",
   "metadata": {},
   "outputs": [],
   "source": [
    "import collections\n",
    "import urllib\n",
    "\n",
    "%matplotlib inline\n",
    "import matplotlib.pyplot as plt"
   ]
  },
  {
   "cell_type": "markdown",
   "id": "b7d3d539-c0e8-494f-9a25-db0bbba8861e",
   "metadata": {},
   "source": [
    "\n",
    "\n"
   ]
  },
  {
   "cell_type": "markdown",
   "id": "6b1843a6-12b0-4707-abbb-d6a9930bffa7",
   "metadata": {},
   "source": [
    "### Methods\n",
    "The FASTQ file is parsed using functions obtained from the seq_processing module found in this repository. "
   ]
  },
  {
   "cell_type": "code",
   "execution_count": 3,
   "id": "edec8009-c0bf-404e-8a89-643b19b8090e",
   "metadata": {},
   "outputs": [],
   "source": [
    "# retrieving raw sequence data in FASTQ file format\n",
    "urllib.request.urlretrieve(\"https://d28rh4a8wq0iu5.cloudfront.net/ads1/data/ERR037900_1.first1000.fastq\", \"ERR037900_1.first1000.fastq\")\n",
    "\n",
    "# parsing the FASTQ file and storing the sequences and phred base qualities in two separate lists:\n",
    "seqs , base_quals = readFASTQ(\"ERR037900_1.first1000.fastq\")"
   ]
  },
  {
   "cell_type": "markdown",
   "id": "b968cb97-95fe-4e64-b6f3-b16ceac84709",
   "metadata": {},
   "source": [
    "\n",
    "\n"
   ]
  },
  {
   "cell_type": "markdown",
   "id": "7ae0a4cb-01e0-44d0-9eee-7c98ac5f1917",
   "metadata": {},
   "source": [
    "The list 'seqs' contains the sequencings reads with the corresponding base qualities stored in the 'base_quals' list. Let's examine whether the file has been parsed accurately:"
   ]
  },
  {
   "cell_type": "code",
   "execution_count": 4,
   "id": "3398e210-2fd6-416c-a21f-d5e9f7859561",
   "metadata": {},
   "outputs": [
    {
     "data": {
      "text/plain": [
       "(['TAACCCTAACCCTAACCCTAACCCTAACCCTAACCCTAACCCTAACCCTAACCCTAACCCTAACCCNAACCCTAACCCTAACCCTAACCCTAACCCTAAC',\n",
       "  'TAACCCTAACCCTAACCCTAACCCTAACCCTAACCCTAACCCTAACCCTAACCCTAACCCTAACCCNAACCCTAACCCTAACCCTAACCCTNACCCTAAC'],\n",
       " ['HHHHHHHHHHHHHHHHHHHHHHHHHHHHHHHHHHHHHHHHHHHGFHHHFHFFHHHHHGHHFHEH@4#55554455HGFBF<@C>7EEF@FBEDDD<=C<E',\n",
       "  'HHHHHHHHHHHHHHHHHHHHHHHHHHHHHHHHHHHHHHHHHHHHHHHHHHHHHHHHCHHHHEHHBA#C>@54455C/7=CGHEGEB;C############'])"
      ]
     },
     "execution_count": 4,
     "metadata": {},
     "output_type": "execute_result"
    }
   ],
   "source": [
    "seqs[:2] , base_quals[:2]"
   ]
  },
  {
   "cell_type": "markdown",
   "id": "a2f0786f-a17c-4f71-b85c-0bc4ad08f95e",
   "metadata": {},
   "source": [
    "\n",
    "\n"
   ]
  },
  {
   "cell_type": "code",
   "execution_count": 5,
   "id": "786d08cb-98d7-4021-977f-48e6d581ad20",
   "metadata": {},
   "outputs": [
    {
     "data": {
      "text/plain": [
       "(1000, 100)"
      ]
     },
     "execution_count": 5,
     "metadata": {},
     "output_type": "execute_result"
    }
   ],
   "source": [
    "len(seqs) , len(seqs[0])"
   ]
  },
  {
   "cell_type": "markdown",
   "id": "854e45b1-0ffa-4147-b6ec-3b21141fc9fc",
   "metadata": {},
   "source": [
    "Indeed, this dataset contains a total of 1000 reads with each read being 100 bases long."
   ]
  },
  {
   "cell_type": "markdown",
   "id": "9438cdb3-4994-4c40-b0d0-b407273075bd",
   "metadata": {},
   "source": [
    "\n",
    "\n"
   ]
  },
  {
   "cell_type": "markdown",
   "id": "85b1def8-00db-4f81-9874-0f757c944d4f",
   "metadata": {},
   "source": [
    "It is worth checking the base composition of the sequencing reads as it will give us a rough indication of the ratios of A:T and G:C and the proportion of no-confidence bases or N's in the data:"
   ]
  },
  {
   "cell_type": "code",
   "execution_count": 6,
   "id": "af111661-7b86-44dc-96a1-c91d00bdfd29",
   "metadata": {},
   "outputs": [
    {
     "data": {
      "text/plain": [
       "Counter({'T': 22476, 'A': 24057, 'C': 29665, 'N': 914, 'G': 22888})"
      ]
     },
     "execution_count": 6,
     "metadata": {},
     "output_type": "execute_result"
    }
   ],
   "source": [
    "count = collections.Counter()\n",
    "for seq in seqs:\n",
    "    count.update(seq)\n",
    "count"
   ]
  },
  {
   "cell_type": "markdown",
   "id": "3912d205-cec1-4a81-96a4-c1e061a8ea1f",
   "metadata": {},
   "source": [
    "We can see that the number of N's in the data is quite high. Additionally, while the total number of A's and T's are close to each other, the number of C's is significantly higher than the number of G's. Both of these observations suggest the presence of poor quality sequencing cycles likely to have resulted from some low confidence reads of G's. \n",
    "\n",
    "We can locate the sequencing cycles that contain the poor quality reads by plotting the base quality scores against the sequencing cycles:"
   ]
  },
  {
   "cell_type": "code",
   "execution_count": 28,
   "id": "876baf12-f25e-4336-ac78-8d22e27bdebc",
   "metadata": {},
   "outputs": [
    {
     "data": {
      "image/png": "[encoded data removed]",
      "text/plain": [
       "<Figure size 432x288 with 1 Axes>"
      ]
     },
     "metadata": {
      "needs_background": "light"
     },
     "output_type": "display_data"
    }
   ],
   "source": [
    "bq_hist = histogram(base_quals)\n",
    "plt.plot(range(len(bq_hist)), bq_hist, label = 'Base Quality Scores')\n",
    "plt.xlabel('Sequencing cycle')\n",
    "plt.ylabel('Phred base quality scores')\n",
    "plt.title('Base quality scores per sequencing cycle')\n",
    "plt.show()"
   ]
  },
  {
   "cell_type": "markdown",
   "id": "19ea0fd4-155b-46c1-b706-a1155cb15b6e",
   "metadata": {},
   "source": [
    "(Note: in this plot, the histogram function multiplies the base quality scores by 1000. That is why the quality scores are in tens of thousands rather than the conventional 2-to-60 scale.)\n",
    "\n",
    "For the above graph, the base quality scores are on the higher side for the first half of the reads, after which the scores consistently drop, indicating low confidence in the accuracy of the identified bases in the latter half of the reads. Moreover, a significant fall in base quality is observed somewhere between the cycles 60 and 70. \n",
    "\n",
    "To narrow down exactly which sequencing cycle resulted in the poorest base quality (below 5, as seen in the above graph), we can get the offset of the lowest base quality between cycles 60 to 70:"
   ]
  },
  {
   "cell_type": "code",
   "execution_count": 8,
   "id": "8e805f35-a92e-4a15-ad7c-778a4ec2f554",
   "metadata": {},
   "outputs": [
    {
     "data": {
      "text/plain": [
       "4526"
      ]
     },
     "execution_count": 8,
     "metadata": {},
     "output_type": "execute_result"
    }
   ],
   "source": [
    "min(bq_hist[60:70])"
   ]
  },
  {
   "cell_type": "code",
   "execution_count": 9,
   "id": "9df2ad5a-634b-454f-90f4-8c987259eadf",
   "metadata": {},
   "outputs": [
    {
     "data": {
      "text/plain": [
       "4.526"
      ]
     },
     "execution_count": 9,
     "metadata": {},
     "output_type": "execute_result"
    }
   ],
   "source": [
    "# lowest base quality:\n",
    "lowest_bq = min(bq_hist[60:70])/1000\n",
    "lowest_bq"
   ]
  },
  {
   "cell_type": "code",
   "execution_count": 10,
   "id": "03facfb6-069b-4bbd-bc95-f778550d86a5",
   "metadata": {},
   "outputs": [
    {
     "data": {
      "text/plain": [
       "66"
      ]
     },
     "execution_count": 10,
     "metadata": {},
     "output_type": "execute_result"
    }
   ],
   "source": [
    "# offset corresponding to the lowest base quality of 4526:\n",
    "bq_hist.index(4526)"
   ]
  },
  {
   "cell_type": "markdown",
   "id": "b1631db1-f619-43eb-84c9-f5ca8536641a",
   "metadata": {},
   "source": [
    "Therefore, the lowest base quality score of 4.526 occuring at offset 66 indicates that the 67th sequencing cycle is the poorest of the batch. To find out what bases exist at offset 66 of every sequencing read: "
   ]
  },
  {
   "cell_type": "code",
   "execution_count": 11,
   "id": "3a845d8d-0cf4-4451-b078-9fe8554665c1",
   "metadata": {},
   "outputs": [
    {
     "data": {
      "text/plain": [
       "['N', 'N', 'N', 'N', 'N', 'N', 'N', 'N', 'N', 'N']"
      ]
     },
     "execution_count": 11,
     "metadata": {},
     "output_type": "execute_result"
    }
   ],
   "source": [
    "# create a list of bases at offset 66 of every read\n",
    "bases = []\n",
    "for seq in seqs:\n",
    "    bases.append(seq[66])\n",
    "\n",
    "bases[:10]"
   ]
  },
  {
   "cell_type": "markdown",
   "id": "fb48c7ad-a790-4a53-b6fe-eff32f8a37a6",
   "metadata": {},
   "source": [
    "The first 10 bases in this list are all N's. Let us calculate the proportion of N's in the entire list of base qualities of all 67th sequencing cycles:"
   ]
  },
  {
   "cell_type": "code",
   "execution_count": 12,
   "id": "3c7548b5-9618-42f0-a37b-35c33638ed55",
   "metadata": {},
   "outputs": [
    {
     "name": "stdout",
     "output_type": "stream",
     "text": [
      "'N' consists of 90 % of the bases at the 67th sequencing cycle of all reads\n"
     ]
    }
   ],
   "source": [
    "count = collections.Counter()\n",
    "for base in bases:\n",
    "    count.update(base)\n",
    "    \n",
    "print(\"'N' consists of %d %% of the bases at the 67th sequencing cycle of all reads\" % ((count['N']/len(bases))*100))"
   ]
  },
  {
   "cell_type": "markdown",
   "id": "265b841f-5cdf-4b9f-bf77-0a74c831950c",
   "metadata": {},
   "source": [
    "As expected, 90% of the bases reported at all 67th sequencing cycles are low confidence reads. Before, we speculated that these unidentifiable bases G's or C's due to their vastly disproportionate ratio in the sequencing sample. The identity of the base can be confirmed by examining the GC content of each read against its corresponding sequencing cycle:"
   ]
  },
  {
   "cell_type": "code",
   "execution_count": 29,
   "id": "e0bde418-3270-41c2-bc07-637da6dd9db8",
   "metadata": {},
   "outputs": [
    {
     "data": {
      "image/png": "[encoded data removed]",
      "text/plain": [
       "<Figure size 432x288 with 1 Axes>"
      ]
     },
     "metadata": {
      "needs_background": "light"
     },
     "output_type": "display_data"
    }
   ],
   "source": [
    "# calculate GC content\n",
    "gcs = findGCbyPos(seqs)\n",
    "\n",
    "# plot GC content against the sequencing cycle\n",
    "plt.plot(range(len(gcs)) , gcs)\n",
    "plt.xlabel('Sequencing cycle')\n",
    "plt.ylabel('GC content')\n",
    "plt.title('GC content per sequencing cycle')\n",
    "plt.show()"
   ]
  },
  {
   "cell_type": "markdown",
   "id": "ad8f7f45-4eda-4361-a39e-8fb6960c85c2",
   "metadata": {},
   "source": [
    "The average GC content of the human genome is usually greater than 0.5 which can be observed in the graph where most values hover around or above 0.5 with some fluctuations due to noise. However, a significant drop in the GC percentage can be observed in the reads somewhere between the 60th and the 70th sequencing cycle in line with the observation from the base qualities graph. To find the exact sequencing cycle with the lowest GC content:"
   ]
  },
  {
   "cell_type": "code",
   "execution_count": 14,
   "id": "37292194-ab0f-4d1d-a621-91c2784a91ef",
   "metadata": {},
   "outputs": [
    {
     "data": {
      "text/plain": [
       "66"
      ]
     },
     "execution_count": 14,
     "metadata": {},
     "output_type": "execute_result"
    }
   ],
   "source": [
    "gcs.index(min(gcs[60:70]))"
   ]
  },
  {
   "cell_type": "markdown",
   "id": "88de3461-b52a-49ed-99ae-a2e4b72c4e20",
   "metadata": {},
   "source": [
    "This is the same cycle as the one with the lowest base quality. "
   ]
  },
  {
   "cell_type": "markdown",
   "id": "1b2afa9e-05a0-4d49-8ae3-c3c4ff2783a1",
   "metadata": {},
   "source": [
    "### Conclusion\n",
    "The 67th sequencing cycle of all reads were found to have produced the lowest base quality scores. It was also determined that about 90% of all reads contained N's in the 67th sequencing cycle. Lastly, a disporportionate ratio of G:C in sample along with a significant drop in GC content was observed in the 67th sequencing cycles. Therefore, it can be concluded that the 67th sequencing cycle produced the lowest quality read due to low confidence in the identification of the GC content present at these positions in the DNA sequence. "
   ]
  },
  {
   "cell_type": "markdown",
   "id": "fdbaed54-f3c2-4126-a2b1-2d5e7a1cf22b",
   "metadata": {},
   "source": [
    "### References:\n",
    "1. Ajay, S. S., Parker, S. C., Abaan, H. O., Fajardo, K. V. F., & Margulies, E. H. (2011). Accurate and comprehensive sequencing of personal genomes. _Genome research_, _21_(9), 1498-1505."
   ]
  }
 ],
 "metadata": {
  "kernelspec": {
   "display_name": "Python 3 (ipykernel)",
   "language": "python",
   "name": "python3"
  },
  "language_info": {
   "codemirror_mode": {
    "name": "ipython",
    "version": 3
   },
   "file_extension": ".py",
   "mimetype": "text/x-python",
   "name": "python",
   "nbconvert_exporter": "python",
   "pygments_lexer": "ipython3",
   "version": "3.10.2"
  }
 },
 "nbformat": 4,
 "nbformat_minor": 5
}
